{
 "cells": [
  {
   "cell_type": "code",
   "execution_count": 1,
   "metadata": {},
   "outputs": [],
   "source": [
    "import os\n",
    "import json\n",
    "import requests\n",
    "from urllib.parse import urlparse"
   ]
  },
  {
   "cell_type": "code",
   "execution_count": 2,
   "metadata": {},
   "outputs": [],
   "source": [
    "def download_image(url, save_directory):\n",
    "    try:\n",
    "        # Get the file name from the URL\n",
    "        parsed_url = urlparse(url)\n",
    "        file_name = os.path.basename(parsed_url.path)\n",
    "        save_path = os.path.join(save_directory, file_name)\n",
    "\n",
    "        # Ensure the save directory exists\n",
    "        os.makedirs(save_directory, exist_ok=True)\n",
    "\n",
    "        # Download the image\n",
    "        response = requests.get(url, stream=True)\n",
    "        response.raise_for_status()  # Raise an error for HTTP errors\n",
    "\n",
    "        # Save the image\n",
    "        with open(save_path, 'wb') as image_file:\n",
    "            for chunk in response.iter_content(1024):\n",
    "                image_file.write(chunk)\n",
    "        print(f\"Downloaded: {url} -> {save_path}\")\n",
    "    except Exception as e:\n",
    "        print(f\"Failed to download {url}: {e}\")"
   ]
  },
  {
   "cell_type": "code",
   "execution_count": 3,
   "metadata": {},
   "outputs": [],
   "source": [
    "def process_json_files(base_directory, image_base_directory):\n",
    "    print(\"in process_json_files\")\n",
    "    for root, _, files in os.walk(base_directory):\n",
    "        for file_name in files:\n",
    "            if file_name.endswith('.json'):\n",
    "                json_path = os.path.join(root, file_name)\n",
    "                try:\n",
    "                    with open(json_path, 'r') as json_file:\n",
    "                        data = json.load(json_file)\n",
    "                        # Adjust this key based on the JSON structure\n",
    "                        image_urls = data.get(\"images\", [])\n",
    "\n",
    "                        # Determine the corresponding sharded directory in the image base directory\n",
    "                        relative_path = os.path.relpath(root, base_directory)\n",
    "                        sharded_image_dir = os.path.join(image_base_directory, relative_path)\n",
    "\n",
    "                        # Download each image\n",
    "                        for url in image_urls:\n",
    "                            print(\"downloading image\")\n",
    "                            download_image(url, sharded_image_dir)\n",
    "                            print(url)\n",
    "                except Exception as e:\n",
    "                    print(f\"Failed to process {json_path}: {e}\")"
   ]
  },
  {
   "cell_type": "code",
   "execution_count": 4,
   "metadata": {},
   "outputs": [],
   "source": [
    "# Directory containing JSON files\n",
    "json_directory = 'C:/Users/lucas/Desktop/TraffickCam_Nearby_Search/country'\n",
    "# Directory to save downloaded images\n",
    "image_directory = 'C:/Users/lucas/Desktop/TraffickCam_Nearby_Search/booking_images'\n",
    "# Ensure the image directory exists\n",
    "os.makedirs(image_directory, exist_ok=True)"
   ]
  },
  {
   "cell_type": "code",
   "execution_count": 5,
   "metadata": {},
   "outputs": [
    {
     "name": "stdout",
     "output_type": "stream",
     "text": [
      "in process_json_files\n"
     ]
    }
   ],
   "source": [
    "process_json_files(json_directory, image_directory)"
   ]
  }
 ],
 "metadata": {
  "kernelspec": {
   "display_name": "Python 3",
   "language": "python",
   "name": "python3"
  },
  "language_info": {
   "codemirror_mode": {
    "name": "ipython",
    "version": 3
   },
   "file_extension": ".py",
   "mimetype": "text/x-python",
   "name": "python",
   "nbconvert_exporter": "python",
   "pygments_lexer": "ipython3",
   "version": "3.11.9"
  }
 },
 "nbformat": 4,
 "nbformat_minor": 2
}
